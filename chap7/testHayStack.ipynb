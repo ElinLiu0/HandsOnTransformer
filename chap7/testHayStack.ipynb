{
 "cells": [
  {
   "cell_type": "code",
   "execution_count": null,
   "metadata": {},
   "outputs": [],
   "source": [
    "!pip install --upgrade pip\n",
    "!pip install \"farm-haystack[colab,preprocessing,elasticsearch,inference]\""
   ]
  },
  {
   "cell_type": "code",
   "execution_count": 2,
   "metadata": {},
   "outputs": [
    {
     "name": "stdout",
     "output_type": "stream",
     "text": [
      "[2024-01-30T13:40:20,897][INFO ][o.e.n.Node               ] [ElinWorkstation] version[7.9.2], pid[16541], build[default/tar/d34da0ea4a966c4e49417f2da2f244e3e97b4e6e/2020-09-23T00:45:33.626720Z], OS[Linux/5.15.133.1-microsoft-standard-WSL2/amd64], JVM[AdoptOpenJDK/OpenJDK 64-Bit Server VM/15/15+36]\n",
      "[2024-01-30T13:40:20,900][INFO ][o.e.n.Node               ] [ElinWorkstation] JVM home [/root/elasticsearch-7.9.2/jdk]\n",
      "[2024-01-30T13:40:20,901][INFO ][o.e.n.Node               ] [ElinWorkstation] JVM arguments [-Xshare:auto, -Des.networkaddress.cache.ttl=60, -Des.networkaddress.cache.negative.ttl=10, -XX:+AlwaysPreTouch, -Xss1m, -Djava.awt.headless=true, -Dfile.encoding=UTF-8, -Djna.nosys=true, -XX:-OmitStackTraceInFastThrow, -XX:+ShowCodeDetailsInExceptionMessages, -Dio.netty.noUnsafe=true, -Dio.netty.noKeySetOptimization=true, -Dio.netty.recycler.maxCapacityPerThread=0, -Dio.netty.allocator.numDirectArenas=0, -Dlog4j.shutdownHookEnabled=false, -Dlog4j2.disable.jmx=true, -Djava.locale.providers=SPI,COMPAT, -Xms1g, -Xmx1g, -XX:+UseG1GC, -XX:G1ReservePercent=25, -XX:InitiatingHeapOccupancyPercent=30, -Djava.io.tmpdir=/tmp/elasticsearch-9736189754603571199, -XX:+HeapDumpOnOutOfMemoryError, -XX:HeapDumpPath=data, -XX:ErrorFile=logs/hs_err_pid%p.log, -Xlog:gc*,gc+age=trace,safepoint:file=logs/gc.log:utctime,pid,tags:filecount=32,filesize=64m, -XX:MaxDirectMemorySize=536870912, -Des.path.home=/root/elasticsearch-7.9.2, -Des.path.conf=/root/elasticsearch-7.9.2/config, -Des.distribution.flavor=default, -Des.distribution.type=tar, -Des.bundled_jdk=true]\n",
      "[2024-01-30T13:40:22,265][INFO ][o.e.p.PluginsService     ] [ElinWorkstation] loaded module [aggs-matrix-stats]\n",
      "[2024-01-30T13:40:22,265][INFO ][o.e.p.PluginsService     ] [ElinWorkstation] loaded module [analysis-common]\n",
      "[2024-01-30T13:40:22,266][INFO ][o.e.p.PluginsService     ] [ElinWorkstation] loaded module [constant-keyword]\n",
      "[2024-01-30T13:40:22,266][INFO ][o.e.p.PluginsService     ] [ElinWorkstation] loaded module [flattened]\n",
      "[2024-01-30T13:40:22,266][INFO ][o.e.p.PluginsService     ] [ElinWorkstation] loaded module [frozen-indices]\n",
      "[2024-01-30T13:40:22,266][INFO ][o.e.p.PluginsService     ] [ElinWorkstation] loaded module [ingest-common]\n",
      "[2024-01-30T13:40:22,266][INFO ][o.e.p.PluginsService     ] [ElinWorkstation] loaded module [ingest-geoip]\n",
      "[2024-01-30T13:40:22,267][INFO ][o.e.p.PluginsService     ] [ElinWorkstation] loaded module [ingest-user-agent]\n",
      "[2024-01-30T13:40:22,267][INFO ][o.e.p.PluginsService     ] [ElinWorkstation] loaded module [kibana]\n",
      "[2024-01-30T13:40:22,267][INFO ][o.e.p.PluginsService     ] [ElinWorkstation] loaded module [lang-expression]\n",
      "[2024-01-30T13:40:22,267][INFO ][o.e.p.PluginsService     ] [ElinWorkstation] loaded module [lang-mustache]\n",
      "[2024-01-30T13:40:22,267][INFO ][o.e.p.PluginsService     ] [ElinWorkstation] loaded module [lang-painless]\n",
      "[2024-01-30T13:40:22,268][INFO ][o.e.p.PluginsService     ] [ElinWorkstation] loaded module [mapper-extras]\n",
      "[2024-01-30T13:40:22,268][INFO ][o.e.p.PluginsService     ] [ElinWorkstation] loaded module [parent-join]\n",
      "[2024-01-30T13:40:22,268][INFO ][o.e.p.PluginsService     ] [ElinWorkstation] loaded module [percolator]\n",
      "[2024-01-30T13:40:22,268][INFO ][o.e.p.PluginsService     ] [ElinWorkstation] loaded module [rank-eval]\n",
      "[2024-01-30T13:40:22,268][INFO ][o.e.p.PluginsService     ] [ElinWorkstation] loaded module [reindex]\n",
      "[2024-01-30T13:40:22,268][INFO ][o.e.p.PluginsService     ] [ElinWorkstation] loaded module [repository-url]\n",
      "[2024-01-30T13:40:22,269][INFO ][o.e.p.PluginsService     ] [ElinWorkstation] loaded module [search-business-rules]\n",
      "[2024-01-30T13:40:22,269][INFO ][o.e.p.PluginsService     ] [ElinWorkstation] loaded module [searchable-snapshots]\n",
      "[2024-01-30T13:40:22,269][INFO ][o.e.p.PluginsService     ] [ElinWorkstation] loaded module [spatial]\n",
      "[2024-01-30T13:40:22,269][INFO ][o.e.p.PluginsService     ] [ElinWorkstation] loaded module [tasks]\n",
      "[2024-01-30T13:40:22,269][INFO ][o.e.p.PluginsService     ] [ElinWorkstation] loaded module [transform]\n",
      "[2024-01-30T13:40:22,270][INFO ][o.e.p.PluginsService     ] [ElinWorkstation] loaded module [transport-netty4]\n",
      "[2024-01-30T13:40:22,270][INFO ][o.e.p.PluginsService     ] [ElinWorkstation] loaded module [vectors]\n",
      "[2024-01-30T13:40:22,270][INFO ][o.e.p.PluginsService     ] [ElinWorkstation] loaded module [wildcard]\n",
      "[2024-01-30T13:40:22,271][INFO ][o.e.p.PluginsService     ] [ElinWorkstation] loaded module [x-pack-analytics]\n",
      "[2024-01-30T13:40:22,271][INFO ][o.e.p.PluginsService     ] [ElinWorkstation] loaded module [x-pack-async]\n",
      "[2024-01-30T13:40:22,272][INFO ][o.e.p.PluginsService     ] [ElinWorkstation] loaded module [x-pack-async-search]\n",
      "[2024-01-30T13:40:22,272][INFO ][o.e.p.PluginsService     ] [ElinWorkstation] loaded module [x-pack-autoscaling]\n",
      "[2024-01-30T13:40:22,272][INFO ][o.e.p.PluginsService     ] [ElinWorkstation] loaded module [x-pack-ccr]\n",
      "[2024-01-30T13:40:22,273][INFO ][o.e.p.PluginsService     ] [ElinWorkstation] loaded module [x-pack-core]\n",
      "[2024-01-30T13:40:22,273][INFO ][o.e.p.PluginsService     ] [ElinWorkstation] loaded module [x-pack-data-streams]\n",
      "[2024-01-30T13:40:22,274][INFO ][o.e.p.PluginsService     ] [ElinWorkstation] loaded module [x-pack-deprecation]\n",
      "[2024-01-30T13:40:22,274][INFO ][o.e.p.PluginsService     ] [ElinWorkstation] loaded module [x-pack-enrich]\n",
      "[2024-01-30T13:40:22,274][INFO ][o.e.p.PluginsService     ] [ElinWorkstation] loaded module [x-pack-eql]\n",
      "[2024-01-30T13:40:22,275][INFO ][o.e.p.PluginsService     ] [ElinWorkstation] loaded module [x-pack-graph]\n",
      "[2024-01-30T13:40:22,275][INFO ][o.e.p.PluginsService     ] [ElinWorkstation] loaded module [x-pack-identity-provider]\n",
      "[2024-01-30T13:40:22,275][INFO ][o.e.p.PluginsService     ] [ElinWorkstation] loaded module [x-pack-ilm]\n",
      "[2024-01-30T13:40:22,275][INFO ][o.e.p.PluginsService     ] [ElinWorkstation] loaded module [x-pack-logstash]\n",
      "[2024-01-30T13:40:22,276][INFO ][o.e.p.PluginsService     ] [ElinWorkstation] loaded module [x-pack-ml]\n",
      "[2024-01-30T13:40:22,277][INFO ][o.e.p.PluginsService     ] [ElinWorkstation] loaded module [x-pack-monitoring]\n",
      "[2024-01-30T13:40:22,277][INFO ][o.e.p.PluginsService     ] [ElinWorkstation] loaded module [x-pack-ql]\n",
      "[2024-01-30T13:40:22,278][INFO ][o.e.p.PluginsService     ] [ElinWorkstation] loaded module [x-pack-rollup]\n",
      "[2024-01-30T13:40:22,278][INFO ][o.e.p.PluginsService     ] [ElinWorkstation] loaded module [x-pack-security]\n",
      "[2024-01-30T13:40:22,278][INFO ][o.e.p.PluginsService     ] [ElinWorkstation] loaded module [x-pack-sql]\n",
      "[2024-01-30T13:40:22,278][INFO ][o.e.p.PluginsService     ] [ElinWorkstation] loaded module [x-pack-stack]\n",
      "[2024-01-30T13:40:22,279][INFO ][o.e.p.PluginsService     ] [ElinWorkstation] loaded module [x-pack-voting-only-node]\n",
      "[2024-01-30T13:40:22,279][INFO ][o.e.p.PluginsService     ] [ElinWorkstation] loaded module [x-pack-watcher]\n",
      "[2024-01-30T13:40:22,279][INFO ][o.e.p.PluginsService     ] [ElinWorkstation] no plugins loaded\n",
      "[2024-01-30T13:40:22,305][INFO ][o.e.e.NodeEnvironment    ] [ElinWorkstation] using [1] data paths, mounts [[/ (/dev/sdc)]], net usable_space [742.5gb], net total_space [1006.8gb], types [ext4]\n",
      "[2024-01-30T13:40:22,306][INFO ][o.e.e.NodeEnvironment    ] [ElinWorkstation] heap size [1gb], compressed ordinary object pointers [true]\n",
      "[2024-01-30T13:40:22,367][INFO ][o.e.n.Node               ] [ElinWorkstation] node name [ElinWorkstation], node ID [7i6ZgZeYTd-5aZ_b3jr_2w], cluster name [elasticsearch]\n",
      "[2024-01-30T13:40:24,595][INFO ][o.e.x.m.p.l.CppLogMessageHandler] [ElinWorkstation] [controller/16780] [Main.cc@114] controller (64 bit): Version 7.9.2 (Build 6a60f0cf2dd5a5) Copyright (c) 2020 Elasticsearch BV\n",
      "[2024-01-30T13:40:25,056][INFO ][o.e.x.s.a.s.FileRolesStore] [ElinWorkstation] parsed [0] roles from file [/root/elasticsearch-7.9.2/config/roles.yml]\n",
      "[2024-01-30T13:40:25,681][INFO ][o.e.t.NettyAllocator     ] [ElinWorkstation] creating NettyAllocator with the following configs: [name=unpooled, factors={es.unsafe.use_unpooled_allocator=false, g1gc_enabled=true, g1gc_region_size=1mb, heap_size=1gb}]\n",
      "[2024-01-30T13:40:25,726][INFO ][o.e.d.DiscoveryModule    ] [ElinWorkstation] using discovery type [zen] and seed hosts providers [settings]\n",
      "[2024-01-30T13:40:26,031][WARN ][o.e.g.DanglingIndicesState] [ElinWorkstation] gateway.auto_import_dangling_indices is disabled, dangling indices will not be automatically detected or imported and must be managed manually\n",
      "[2024-01-30T13:40:26,278][INFO ][o.e.n.Node               ] [ElinWorkstation] initialized\n",
      "[2024-01-30T13:40:26,279][INFO ][o.e.n.Node               ] [ElinWorkstation] starting ...\n",
      "[2024-01-30T13:40:26,433][INFO ][o.e.t.TransportService   ] [ElinWorkstation] publish_address {127.0.0.1:9300}, bound_addresses {[::1]:9300}, {127.0.0.1:9300}\n",
      "[2024-01-30T13:40:26,614][WARN ][o.e.b.BootstrapChecks    ] [ElinWorkstation] max virtual memory areas vm.max_map_count [65530] is too low, increase to at least [262144]\n",
      "[2024-01-30T13:40:26,614][WARN ][o.e.b.BootstrapChecks    ] [ElinWorkstation] the default discovery settings are unsuitable for production use; at least one of [discovery.seed_hosts, discovery.seed_providers, cluster.initial_master_nodes] must be configured\n",
      "[2024-01-30T13:40:26,615][INFO ][o.e.c.c.Coordinator      ] [ElinWorkstation] cluster UUID [IPopgeasSWik6qZOeWpBdw]\n",
      "[2024-01-30T13:40:26,623][INFO ][o.e.c.c.ClusterBootstrapService] [ElinWorkstation] no discovery configuration found, will perform best-effort cluster bootstrapping after [3s] unless existing master is discovered\n",
      "[2024-01-30T13:40:26,751][INFO ][o.e.c.s.MasterService    ] [ElinWorkstation] elected-as-master ([1] nodes joined)[{ElinWorkstation}{7i6ZgZeYTd-5aZ_b3jr_2w}{Av4tfnyATnarMvnZvXX9fQ}{127.0.0.1}{127.0.0.1:9300}{dilmrt}{ml.machine_memory=33308569600, xpack.installed=true, transform.node=true, ml.max_open_jobs=20} elect leader, _BECOME_MASTER_TASK_, _FINISH_ELECTION_], term: 2, version: 36, delta: master node changed {previous [], current [{ElinWorkstation}{7i6ZgZeYTd-5aZ_b3jr_2w}{Av4tfnyATnarMvnZvXX9fQ}{127.0.0.1}{127.0.0.1:9300}{dilmrt}{ml.machine_memory=33308569600, xpack.installed=true, transform.node=true, ml.max_open_jobs=20}]}\n",
      "[2024-01-30T13:40:26,815][INFO ][o.e.c.s.ClusterApplierService] [ElinWorkstation] master node changed {previous [], current [{ElinWorkstation}{7i6ZgZeYTd-5aZ_b3jr_2w}{Av4tfnyATnarMvnZvXX9fQ}{127.0.0.1}{127.0.0.1:9300}{dilmrt}{ml.machine_memory=33308569600, xpack.installed=true, transform.node=true, ml.max_open_jobs=20}]}, term: 2, version: 36, reason: Publication{term=2, version=36}\n",
      "[2024-01-30T13:40:26,857][INFO ][o.e.h.AbstractHttpServerTransport] [ElinWorkstation] publish_address {127.0.0.1:9200}, bound_addresses {[::1]:9200}, {127.0.0.1:9200}\n",
      "[2024-01-30T13:40:26,858][INFO ][o.e.n.Node               ] [ElinWorkstation] started\n",
      "[2024-01-30T13:40:26,988][INFO ][o.e.l.LicenseService     ] [ElinWorkstation] license [920ffe23-64f3-4625-9306-661170d88bc7] mode [basic] - valid\n",
      "[2024-01-30T13:40:26,990][INFO ][o.e.x.s.s.SecurityStatusChangeListener] [ElinWorkstation] Active license is now [BASIC]; Security is disabled\n",
      "[2024-01-30T13:40:26,999][INFO ][o.e.g.GatewayService     ] [ElinWorkstation] recovered [0] indices into cluster_state\n"
     ]
    }
   ],
   "source": [
    "import subprocess\n",
    "command = \"sudo -u daemon -- /root/elasticsearch-7.9.2/bin/elasticsearch\"\n",
    "es_server = subprocess.Popen(\n",
    "    command.split(),\n",
    ")\n",
    "# Waiting 30 seconds until ElasticSearch Server startup\n",
    "!sleep 30"
   ]
  },
  {
   "cell_type": "code",
   "execution_count": 3,
   "metadata": {},
   "outputs": [
    {
     "name": "stdout",
     "output_type": "stream",
     "text": [
      "[2024-01-30T13:41:08,712][INFO ][o.e.c.m.MetadataCreateIndexService] [ElinWorkstation] [document] creating index, cause [api], templates [], shards [1]/[1]\n",
      "[2024-01-30T13:41:08,897][INFO ][o.e.c.m.MetadataCreateIndexService] [ElinWorkstation] [label] creating index, cause [api], templates [], shards [1]/[1]\n"
     ]
    }
   ],
   "source": [
    "import os\n",
    "from haystack.document_stores import ElasticsearchDocumentStore\n",
    "\n",
    "# Get the host where Elasticsearch is running, default to localhost\n",
    "host = os.environ.get(\"ELASTICSEARCH_HOST\", \"localhost\")\n",
    "\n",
    "document_store = ElasticsearchDocumentStore(host=host, username=\"\", password=\"\", index=\"document\")\n"
   ]
  },
  {
   "cell_type": "code",
   "execution_count": null,
   "metadata": {},
   "outputs": [],
   "source": []
  }
 ],
 "metadata": {
  "kernelspec": {
   "display_name": "transformer",
   "language": "python",
   "name": "python3"
  },
  "language_info": {
   "codemirror_mode": {
    "name": "ipython",
    "version": 3
   },
   "file_extension": ".py",
   "mimetype": "text/x-python",
   "name": "python",
   "nbconvert_exporter": "python",
   "pygments_lexer": "ipython3",
   "version": "3.11.5"
  }
 },
 "nbformat": 4,
 "nbformat_minor": 2
}
