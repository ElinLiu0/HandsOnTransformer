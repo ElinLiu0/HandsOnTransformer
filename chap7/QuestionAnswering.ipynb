{
 "cells": [
  {
   "cell_type": "markdown",
   "metadata": {},
   "source": [
    "### 问答系统(Question Answering)"
   ]
  },
  {
   "cell_type": "code",
   "execution_count": 1,
   "metadata": {},
   "outputs": [
    {
     "data": {
      "text/plain": [
       "['books', 'electronics', 'grocery', 'movies', 'restaurants', 'tripadvisor']"
      ]
     },
     "execution_count": 1,
     "metadata": {},
     "output_type": "execute_result"
    }
   ],
   "source": [
    "# 加载SubjQA数据集\n",
    "\n",
    "from datasets import get_dataset_config_names\n",
    "\n",
    "domains = get_dataset_config_names(\"subjqa\")\n",
    "domains"
   ]
  },
  {
   "cell_type": "markdown",
   "metadata": {},
   "source": [
    "> 可以看到：SubjQA数据集共有6大领域，分别为：\n",
    "> - 图书\n",
    "> - 电子产品\n",
    "> - 零货\n",
    "> - 电影\n",
    "> - 餐饮\n",
    "> - 旅游建议"
   ]
  },
  {
   "cell_type": "code",
   "execution_count": 2,
   "metadata": {},
   "outputs": [],
   "source": [
    "# 在本次案例中使用电子这个领域\n",
    "from datasets import load_dataset\n",
    "\n",
    "subjqa = load_dataset(\"subjqa\",name=\"electronics\")"
   ]
  },
  {
   "cell_type": "code",
   "execution_count": 3,
   "metadata": {},
   "outputs": [
    {
     "name": "stdout",
     "output_type": "stream",
     "text": [
      "Question : Is this music song have a goo bass?\n",
      "True Answer : {'text': ['Bass is weak as expected', 'Bass is weak as expected, even with EQ adjusted up'], 'answer_start': [1302, 1302], 'answer_subj_level': [1, 1], 'ans_subj_score': [0.5083333253860474, 0.5083333253860474], 'is_ans_subjective': [True, True]}\n"
     ]
    }
   ],
   "source": [
    "# question和answer键来取出分别的字符串集合\n",
    "print(f\"Question : {subjqa['train']['question'][1]}\")\n",
    "print(f\"True Answer : {subjqa['train']['answers'][1]}\")"
   ]
  },
  {
   "cell_type": "code",
   "execution_count": 4,
   "metadata": {},
   "outputs": [
    {
     "name": "stdout",
     "output_type": "stream",
     "text": [
      "Number of questions in train : 1295\n",
      "Number of questions in test : 358\n",
      "Number of questions in validation : 255\n"
     ]
    }
   ],
   "source": [
    "# 使用flatten()展开并详细的看看数据集\n",
    "import pandas as pd\n",
    "\n",
    "dfs = {split:dest.to_pandas() for split,dest in subjqa.flatten().items()}\n",
    "\n",
    "for split,df in dfs.items():\n",
    "    print(f\"Number of questions in {split} : {df['id'].nunique()}\")"
   ]
  },
  {
   "cell_type": "markdown",
   "metadata": {},
   "source": [
    "> SubjQA数据集中的常用列名：\n",
    "> - title：亚马逊商品标准认证码\n",
    "> - question：问题\n",
    "> - answer.answer_text：注释者标记的评论中的文本跨度\n",
    "> - answer.answer_start：回答的开始字符索引\n",
    "> - context：上下文"
   ]
  },
  {
   "cell_type": "code",
   "execution_count": 5,
   "metadata": {},
   "outputs": [
    {
     "data": {
      "text/html": [
       "<div>\n",
       "<style scoped>\n",
       "    .dataframe tbody tr th:only-of-type {\n",
       "        vertical-align: middle;\n",
       "    }\n",
       "\n",
       "    .dataframe tbody tr th {\n",
       "        vertical-align: top;\n",
       "    }\n",
       "\n",
       "    .dataframe thead th {\n",
       "        text-align: right;\n",
       "    }\n",
       "</style>\n",
       "<table border=\"1\" class=\"dataframe\">\n",
       "  <thead>\n",
       "    <tr style=\"text-align: right;\">\n",
       "      <th></th>\n",
       "      <th>title</th>\n",
       "      <th>question</th>\n",
       "      <th>answers.text</th>\n",
       "      <th>answers.answer_start</th>\n",
       "      <th>context</th>\n",
       "    </tr>\n",
       "  </thead>\n",
       "  <tbody>\n",
       "    <tr>\n",
       "      <th>791</th>\n",
       "      <td>B005DKZTMG</td>\n",
       "      <td>Does the keyboard lightweight?</td>\n",
       "      <td>[this keyboard is compact]</td>\n",
       "      <td>[215]</td>\n",
       "      <td>I really like this keyboard.  I give it 4 star...</td>\n",
       "    </tr>\n",
       "    <tr>\n",
       "      <th>1159</th>\n",
       "      <td>B00AAIPT76</td>\n",
       "      <td>How is the battery?</td>\n",
       "      <td>[]</td>\n",
       "      <td>[]</td>\n",
       "      <td>I bought this after the first spare gopro batt...</td>\n",
       "    </tr>\n",
       "  </tbody>\n",
       "</table>\n",
       "</div>"
      ],
      "text/plain": [
       "           title                        question                answers.text  \\\n",
       "791   B005DKZTMG  Does the keyboard lightweight?  [this keyboard is compact]   \n",
       "1159  B00AAIPT76             How is the battery?                          []   \n",
       "\n",
       "     answers.answer_start                                            context  \n",
       "791                 [215]  I really like this keyboard.  I give it 4 star...  \n",
       "1159                   []  I bought this after the first spare gopro batt...  "
      ]
     },
     "execution_count": 5,
     "metadata": {},
     "output_type": "execute_result"
    }
   ],
   "source": [
    "# 简单采样一些数据\n",
    "qa_cols = ['title','question','answers.text','answers.answer_start','context']\n",
    "\n",
    "sample_df = dfs['train'][qa_cols].sample(2,random_state=7)\n",
    "sample_df"
   ]
  },
  {
   "cell_type": "markdown",
   "metadata": {},
   "source": [
    "可以看到，数据集中存在了以下几个情况：\n",
    "- 蹩脚的语法\n",
    "- 空的`answers.text`或者`answers.answer_start`"
   ]
  },
  {
   "cell_type": "code",
   "execution_count": 6,
   "metadata": {},
   "outputs": [
    {
     "data": {
      "text/plain": [
       "'this keyboard is compact'"
      ]
     },
     "execution_count": 6,
     "metadata": {},
     "output_type": "execute_result"
    }
   ],
   "source": [
    "# 使用开始索引和结束索引推断回答\n",
    "start_idx = sample_df[\"answers.answer_start\"].iloc[0][0]\n",
    "end_idx = start_idx + len(sample_df['answers.text'].iloc[0][0])\n",
    "\n",
    "sample_df['context'].iloc[0][start_idx:end_idx]"
   ]
  },
  {
   "cell_type": "code",
   "execution_count": 7,
   "metadata": {},
   "outputs": [
    {
     "data": {
      "image/png": "[encoded data removed]",
      "text/plain": [
       "<Figure size 640x480 with 1 Axes>"
      ]
     },
     "metadata": {},
     "output_type": "display_data"
    }
   ],
   "source": [
    "# 接下来，我们看看消费者更喜欢使用什么口吻来问问题\n",
    "import matplotlib.pyplot as plt\n",
    "\n",
    "counts = {}\n",
    "question_types = [\"What\",\"How\",\"Is\",\"Does\",\"Do\",\"Was\",\"Where\",\"Why\"]\n",
    "\n",
    "for qt in question_types:\n",
    "    counts[qt] = dfs['train']['question'].str.startswith(qt).value_counts()[True]\n",
    "\n",
    "pd.Series(counts).sort_values().plot.barh()\n",
    "plt.title(\"Frequency of Question Types\")\n",
    "plt.show()"
   ]
  },
  {
   "cell_type": "markdown",
   "metadata": {},
   "source": [
    "### 从文本中提取答案\n",
    "在本节中，我们需要理解如何：\n",
    "- 表达进度学习问题\n",
    "- 词元话并编码QA任务的文本\n",
    "- 解决超出模型最大上下文大小的超长篇幅文本"
   ]
  },
  {
   "cell_type": "markdown",
   "metadata": {},
   "source": [
    "#### 范围识别(Span Classification)\n",
    "最常见的从文本中提取答案的方法是将问题是范围识别任务，其中开始和结束次元中词元将作为一个标签需要模型进行预测。\n",
    "![SpanClassification](SpanClassification.png)"
   ]
  },
  {
   "cell_type": "code",
   "execution_count": 8,
   "metadata": {},
   "outputs": [
    {
     "name": "stderr",
     "output_type": "stream",
     "text": [
      "/root/anaconda3/envs/transformer/lib/python3.10/site-packages/transformers/utils/generic.py:441: UserWarning: torch.utils._pytree._register_pytree_node is deprecated. Please use torch.utils._pytree.register_pytree_node instead.\n",
      "  _torch_pytree._register_pytree_node(\n"
     ]
    }
   ],
   "source": [
    "# 由于我们的数据集实在是太小了，拢共才1908条，因此我们需要一个已经通过超大语料训练好的QA模型\n",
    "# 这里我们将使用deepset的minilm-uncased-squad2模型\n",
    "\n",
    "from transformers import AutoTokenizer\n",
    "\n",
    "model_ckpt = \"deepset/minilm-uncased-squad2\"\n",
    "tokenizer = AutoTokenizer.from_pretrained(model_ckpt)"
   ]
  },
  {
   "cell_type": "code",
   "execution_count": 9,
   "metadata": {},
   "outputs": [],
   "source": [
    "# 使用模型进行简单的尝试\n",
    "question = \"How much music can this hold?\"\n",
    "context = \"An MP3 is about 1MB/minute,so about 6000 hours depending on file size.\"\n",
    "\n",
    "inputs = tokenizer(question,context,return_tensors=\"pt\")"
   ]
  },
  {
   "cell_type": "code",
   "execution_count": 10,
   "metadata": {},
   "outputs": [
    {
     "data": {
      "text/html": [
       "<div>\n",
       "<style scoped>\n",
       "    .dataframe tbody tr th:only-of-type {\n",
       "        vertical-align: middle;\n",
       "    }\n",
       "\n",
       "    .dataframe tbody tr th {\n",
       "        vertical-align: top;\n",
       "    }\n",
       "\n",
       "    .dataframe thead th {\n",
       "        text-align: right;\n",
       "    }\n",
       "</style>\n",
       "<table border=\"1\" class=\"dataframe\">\n",
       "  <thead>\n",
       "    <tr style=\"text-align: right;\">\n",
       "      <th></th>\n",
       "      <th>0</th>\n",
       "      <th>1</th>\n",
       "      <th>2</th>\n",
       "      <th>3</th>\n",
       "      <th>4</th>\n",
       "      <th>5</th>\n",
       "      <th>6</th>\n",
       "      <th>7</th>\n",
       "      <th>8</th>\n",
       "      <th>9</th>\n",
       "      <th>...</th>\n",
       "      <th>18</th>\n",
       "      <th>19</th>\n",
       "      <th>20</th>\n",
       "      <th>21</th>\n",
       "      <th>22</th>\n",
       "      <th>23</th>\n",
       "      <th>24</th>\n",
       "      <th>25</th>\n",
       "      <th>26</th>\n",
       "      <th>27</th>\n",
       "    </tr>\n",
       "  </thead>\n",
       "  <tbody>\n",
       "    <tr>\n",
       "      <th>input_ids</th>\n",
       "      <td>101</td>\n",
       "      <td>2129</td>\n",
       "      <td>2172</td>\n",
       "      <td>2189</td>\n",
       "      <td>2064</td>\n",
       "      <td>2023</td>\n",
       "      <td>2907</td>\n",
       "      <td>1029</td>\n",
       "      <td>102</td>\n",
       "      <td>2019</td>\n",
       "      <td>...</td>\n",
       "      <td>2061</td>\n",
       "      <td>2055</td>\n",
       "      <td>25961</td>\n",
       "      <td>2847</td>\n",
       "      <td>5834</td>\n",
       "      <td>2006</td>\n",
       "      <td>5371</td>\n",
       "      <td>2946</td>\n",
       "      <td>1012</td>\n",
       "      <td>102</td>\n",
       "    </tr>\n",
       "    <tr>\n",
       "      <th>token_type_ids</th>\n",
       "      <td>0</td>\n",
       "      <td>0</td>\n",
       "      <td>0</td>\n",
       "      <td>0</td>\n",
       "      <td>0</td>\n",
       "      <td>0</td>\n",
       "      <td>0</td>\n",
       "      <td>0</td>\n",
       "      <td>0</td>\n",
       "      <td>1</td>\n",
       "      <td>...</td>\n",
       "      <td>1</td>\n",
       "      <td>1</td>\n",
       "      <td>1</td>\n",
       "      <td>1</td>\n",
       "      <td>1</td>\n",
       "      <td>1</td>\n",
       "      <td>1</td>\n",
       "      <td>1</td>\n",
       "      <td>1</td>\n",
       "      <td>1</td>\n",
       "    </tr>\n",
       "    <tr>\n",
       "      <th>attention_mask</th>\n",
       "      <td>1</td>\n",
       "      <td>1</td>\n",
       "      <td>1</td>\n",
       "      <td>1</td>\n",
       "      <td>1</td>\n",
       "      <td>1</td>\n",
       "      <td>1</td>\n",
       "      <td>1</td>\n",
       "      <td>1</td>\n",
       "      <td>1</td>\n",
       "      <td>...</td>\n",
       "      <td>1</td>\n",
       "      <td>1</td>\n",
       "      <td>1</td>\n",
       "      <td>1</td>\n",
       "      <td>1</td>\n",
       "      <td>1</td>\n",
       "      <td>1</td>\n",
       "      <td>1</td>\n",
       "      <td>1</td>\n",
       "      <td>1</td>\n",
       "    </tr>\n",
       "  </tbody>\n",
       "</table>\n",
       "<p>3 rows × 28 columns</p>\n",
       "</div>"
      ],
      "text/plain": [
       "                 0     1     2     3     4     5     6     7    8     9   ...  \\\n",
       "input_ids       101  2129  2172  2189  2064  2023  2907  1029  102  2019  ...   \n",
       "token_type_ids    0     0     0     0     0     0     0     0    0     1  ...   \n",
       "attention_mask    1     1     1     1     1     1     1     1    1     1  ...   \n",
       "\n",
       "                  18    19     20    21    22    23    24    25    26   27  \n",
       "input_ids       2061  2055  25961  2847  5834  2006  5371  2946  1012  102  \n",
       "token_type_ids     1     1      1     1     1     1     1     1     1    1  \n",
       "attention_mask     1     1      1     1     1     1     1     1     1    1  \n",
       "\n",
       "[3 rows x 28 columns]"
      ]
     },
     "execution_count": 10,
     "metadata": {},
     "output_type": "execute_result"
    }
   ],
   "source": [
    "import pandas as pd\n",
    "data = {}\n",
    "for k in inputs.keys():\n",
    "    data[k] = inputs[k].numpy()[0]\n",
    "pd.DataFrame(data).T"
   ]
  },
  {
   "cell_type": "code",
   "execution_count": 11,
   "metadata": {},
   "outputs": [
    {
     "data": {
      "text/plain": [
       "'[CLS] how much music can this hold? [SEP] an mp3 is about 1mb / minute, so about 6000 hours depending on file size. [SEP]'"
      ]
     },
     "execution_count": 11,
     "metadata": {},
     "output_type": "execute_result"
    }
   ],
   "source": [
    "# 使用解码函数来查看tokenizer是如何编码QA任务的输入的\n",
    "\n",
    "tokenizer.decode(inputs['input_ids'][0])# 编码的格式为"
   ]
  },
  {
   "cell_type": "code",
   "execution_count": 12,
   "metadata": {},
   "outputs": [
    {
     "name": "stderr",
     "output_type": "stream",
     "text": [
      "/root/anaconda3/envs/transformer/lib/python3.10/site-packages/transformers/utils/generic.py:309: UserWarning: torch.utils._pytree._register_pytree_node is deprecated. Please use torch.utils._pytree.register_pytree_node instead.\n",
      "  _torch_pytree._register_pytree_node(\n",
      "/root/anaconda3/envs/transformer/lib/python3.10/site-packages/transformers/utils/generic.py:309: UserWarning: torch.utils._pytree._register_pytree_node is deprecated. Please use torch.utils._pytree.register_pytree_node instead.\n",
      "  _torch_pytree._register_pytree_node(\n",
      "Some weights of the model checkpoint at deepset/minilm-uncased-squad2 were not used when initializing BertForQuestionAnswering: ['bert.pooler.dense.weight', 'bert.pooler.dense.bias']\n",
      "- This IS expected if you are initializing BertForQuestionAnswering from the checkpoint of a model trained on another task or with another architecture (e.g. initializing a BertForSequenceClassification model from a BertForPreTraining model).\n",
      "- This IS NOT expected if you are initializing BertForQuestionAnswering from the checkpoint of a model that you expect to be exactly identical (initializing a BertForSequenceClassification model from a BertForSequenceClassification model).\n"
     ]
    },
    {
     "data": {
      "text/plain": [
       "QuestionAnsweringModelOutput(loss=None, start_logits=tensor([[-1.1224, -4.7834, -5.3935, -5.2447, -5.2899, -5.4980, -4.9885, -6.1783,\n",
       "         -1.1224,  0.3651, -0.0807, -1.5551,  3.9556,  4.9206, -2.7833, -3.7461,\n",
       "         -1.7211, -4.6096, -1.3769,  4.0256,  4.9715, -0.2477, -3.0354, -4.8180,\n",
       "         -2.2386, -3.4867, -3.5462, -1.1224]]), end_logits=tensor([[-1.0707, -5.4841, -5.0303, -5.1770, -5.4496, -5.5120, -5.2013, -4.6178,\n",
       "         -1.0707, -3.7223, -0.7583, -3.6969, -2.9205, -1.7346,  0.3122, -2.8688,\n",
       "          4.8807,  0.2692, -3.1317, -3.2404,  0.8239,  5.6645, -0.2568, -4.8910,\n",
       "         -3.1677, -0.0130,  1.6739, -1.0707]]), hidden_states=None, attentions=None)"
      ]
     },
     "execution_count": 12,
     "metadata": {},
     "output_type": "execute_result"
    }
   ],
   "source": [
    "# 让模型处理编码后的输入\n",
    "import torch\n",
    "from transformers import AutoModelForQuestionAnswering\n",
    "\n",
    "model = AutoModelForQuestionAnswering.from_pretrained(model_ckpt)\n",
    "\n",
    "with torch.no_grad():\n",
    "    outputs = model(**inputs)\n",
    "    \n",
    "outputs"
   ]
  },
  {
   "cell_type": "code",
   "execution_count": 13,
   "metadata": {},
   "outputs": [],
   "source": [
    "# 由于QA模型的目的是“去头去尾留中间”，所以我们需要先获取输出的开始和结束张量\n",
    "start_logits = outputs.start_logits\n",
    "end_logits = outputs.end_logits"
   ]
  },
  {
   "cell_type": "code",
   "execution_count": 14,
   "metadata": {},
   "outputs": [
    {
     "name": "stdout",
     "output_type": "stream",
     "text": [
      "Input IDs shape : torch.Size([1, 28])\n",
      "Start logits shape : torch.Size([1, 28])\n",
      "End logits shape : torch.Size([1, 28])\n"
     ]
    }
   ],
   "source": [
    "# 输入、开始、结束张量应与编码的输入同长\n",
    "\n",
    "print(f\"Input IDs shape : {inputs.input_ids.size()}\")\n",
    "print(f\"Start logits shape : {start_logits.size()}\")\n",
    "print(f\"End logits shape : {end_logits.size()}\")"
   ]
  },
  {
   "cell_type": "code",
   "execution_count": 15,
   "metadata": {},
   "outputs": [
    {
     "name": "stdout",
     "output_type": "stream",
     "text": [
      "Question: How much music can this hold?\n",
      "Answer: 6000 hours\n"
     ]
    }
   ],
   "source": [
    "# 使用argmax并截取出最终的结果\n",
    "import torch\n",
    "\n",
    "start_idx = torch.argmax(start_logits)\n",
    "end_idx = torch.argmax(end_logits) + 1\n",
    "answer_span = inputs[\"input_ids\"][0][start_idx:end_idx]\n",
    "\n",
    "answer = tokenizer.decode(answer_span)\n",
    "print(f\"Question: {question}\")\n",
    "print(f\"Answer: {answer}\")"
   ]
  },
  {
   "cell_type": "code",
   "execution_count": 16,
   "metadata": {},
   "outputs": [
    {
     "name": "stderr",
     "output_type": "stream",
     "text": [
      "/root/anaconda3/envs/transformer/lib/python3.10/site-packages/transformers/pipelines/question_answering.py:326: UserWarning: topk parameter is deprecated, use top_k instead\n",
      "  warnings.warn(\"topk parameter is deprecated, use top_k instead\", UserWarning)\n"
     ]
    },
    {
     "data": {
      "text/plain": [
       "[{'score': 0.2436027079820633, 'start': 36, 'end': 46, 'answer': '6000 hours'},\n",
       " {'score': 0.23150865733623505,\n",
       "  'start': 16,\n",
       "  'end': 46,\n",
       "  'answer': '1MB/minute,so about 6000 hours'},\n",
       " {'score': 0.10571719706058502,\n",
       "  'start': 16,\n",
       "  'end': 26,\n",
       "  'answer': '1MB/minute'}]"
      ]
     },
     "execution_count": 16,
     "metadata": {},
     "output_type": "execute_result"
    }
   ],
   "source": [
    "# 使用pipeline流水线化QA过程\n",
    "from transformers import pipeline\n",
    "\n",
    "pipe = pipeline(\"question-answering\",model=model,tokenizer=tokenizer)\n",
    "pipe(question=question,context=context,topk=3) # 考虑到pipe默认会对分数进行排序，因此直接掏第一个就成"
   ]
  },
  {
   "cell_type": "markdown",
   "metadata": {},
   "source": [
    "### 长篇幅处理\n"
   ]
  },
  {
   "cell_type": "markdown",
   "metadata": {},
   "source": [
    "> 像其他的文本分类任务，例如情感判断(Sentiment)，你可以使用缩减长文本的办法来实现相同的模型训练效果，毕竟你的核心任务是将整个sequence进行编码后再交给模型，再使用softmax得到一个[1,num_classes]张量。但是这招在QA系统上是完全行不通的，这会产生欺骗行为在上下文的结尾，因此我们需要一个更合理的，不缩水的处理方法，即滑动窗口(*Sliding Window*)。  \n",
    "通过不断将文本进行缩小，并添加空挡的方式，实现问题和捕获上下文的分离。"
   ]
  },
  {
   "cell_type": "code",
   "execution_count": 17,
   "metadata": {},
   "outputs": [
    {
     "name": "stderr",
     "output_type": "stream",
     "text": [
      "Truncation was not explicitly activated but `max_length` is provided a specific value, please use `truncation=True` to explicitly truncate examples to max length. Defaulting to 'longest_first' truncation strategy. If you encode pairs of sequences (GLUE-style) with the tokenizer you can select this strategy more precisely by providing a specific strategy to `truncation`.\n"
     ]
    }
   ],
   "source": [
    "# 使用return_overflowing_tokens=True来使得模型能够使用动态滑窗\n",
    "# 并且使用doc_stride_max_length来控制滑窗空挡的大小\n",
    "\n",
    "example = dfs['train'].iloc[0][['question','context']]\n",
    "tokenized_example = tokenizer(example['question'],example['context'],return_overflowing_tokens=True,max_length=100,stride=25)"
   ]
  },
  {
   "cell_type": "code",
   "execution_count": 18,
   "metadata": {},
   "outputs": [
    {
     "name": "stdout",
     "output_type": "stream",
     "text": [
      "Window #0 has 100 tokens.\n",
      "Window #1 has 88 tokens.\n"
     ]
    }
   ],
   "source": [
    "# 检查分窗的容量\n",
    "for idx,window in enumerate(tokenized_example['input_ids']):\n",
    "    print(f\"Window #{idx} has {len(window)} tokens.\")"
   ]
  },
  {
   "cell_type": "code",
   "execution_count": 19,
   "metadata": {},
   "outputs": [
    {
     "name": "stdout",
     "output_type": "stream",
     "text": [
      "Window #0 :\n",
      " [CLS] how is the bass? [SEP] i have had koss headphones in the past, pro 4aa and qz - 99. the koss portapro is portable and has great bass response. the work great with my android phone and can be \" rolled up \" to be carried in my motorcycle jacket or computer bag without getting crunched. they are very light and do not feel heavy or bear down on your ears even after listening to music with them on all day. the sound is [SEP]\n",
      "Window #1 :\n",
      " [CLS] how is the bass? [SEP] and do not feel heavy or bear down on your ears even after listening to music with them on all day. the sound is night and day better than any ear - bud could be and are almost as good as the pro 4aa. they are \" open air \" headphones so you cannot match the bass to the sealed types, but it comes close. for $ 32, you cannot go wrong. [SEP]\n"
     ]
    }
   ],
   "source": [
    "# 最终来看看每个窗内的文本是什么样子的\n",
    "for idx,window in enumerate(tokenized_example['input_ids']):\n",
    "    print(f\"Window #{idx} :\\n {tokenizer.decode(window)}\")"
   ]
  },
  {
   "cell_type": "markdown",
   "metadata": {},
   "source": [
    "### 使用Haystack来构建QA管道\n",
    "\n",
    "> 在我们前面的系统中，我们是将回答上下文和问题是作为一个整体输入到模型当中来，可现实是我们的QA系统应仅仅接受一个问题，而答案是需要模型自己来进行推断的。  \n",
    "> 一种简单粗暴地方法就是直接把`一坨`回答杂糅到一起喂给模型，这么看似乎确实合理，但这会导致模型无法处理这样的超长文本，因此我们需要一个更好的方法来处理这个问题。  \n",
    "> 为了解决这个问题，现代QA系统基本上基于`检索器-阅读器`的架构来实现，其中的几个重要组件如下：  \n",
    "> - 检索器：检索的质量和反馈很大程度上取决于输入问题的质量。检索器通常分为两种：`稀疏`和`密集`。稀疏检索通常将词频作为一个稀疏矩阵来表述文档和问题。通过内积计算来得到问题和文档的相似度向量。另一方面，密集检索器通常使用像Transformer家族的编码器来生成一个上下文嵌入来表示问题和文档。这些嵌入编码了语义，以使得检索器可以通过理解搜索内容的方式来提升搜索精确度。  \n",
    "> - 阅读器：阅读器的主要作用是提取从检索器提供的文档中获得目标答案，通常这类模型是一种阅读理解模型。\n",
    "![QAPipeLine](NormallyQAPipeLine.png)"
   ]
  },
  {
   "cell_type": "markdown",
   "metadata": {},
   "source": [
    "> Haystack是一个基于检索器-阅读器架构的QA系统，深度绑定HuggingFace Transformer库实现。  \n",
    "> Haystack有两个重要的组成部件，分别为：\n",
    "> - DocumentStore：面向文档数据库，用于存储文档和元数据以提供给检索器\n",
    "> - PipeLine：将QA系统内组件进行整合，并允许自定义键值，从多个检索器实例中提取并聚合文档，等等...  \n",
    "> 在开始之前，我们需要安装[ElasticSearch和HayStack](https://haystack.deepset.ai/tutorials/03_scalable_qa_system)  \n",
    "  \n",
    "> ※请务必安装zlib和libjpg※  \n",
    "```bash\n",
    "sudo apt-get install libjpeg-dev zlib1g-dev\n",
    "```"
   ]
  },
  {
   "cell_type": "code",
   "execution_count": 20,
   "metadata": {},
   "outputs": [],
   "source": [
    "# 启动ElasticSearch\n",
    "import os\n",
    "from subprocess import Popen,PIPE,STDOUT\n",
    "\n",
    "es_server = Popen(args=[\"/root/elasticsearch-7.9.2/bin/elasticsearch\"],stdout=PIPE,stderr=STDOUT,preexec_fn=lambda:os.setuid(1))\n",
    "\n",
    "# 等待ElasticSearch启动\n",
    "!sleep 30"
   ]
  },
  {
   "cell_type": "code",
   "execution_count": 21,
   "metadata": {},
   "outputs": [
    {
     "name": "stderr",
     "output_type": "stream",
     "text": [
      "/root/anaconda3/envs/transformer/lib/python3.10/site-packages/transformers/utils/generic.py:309: UserWarning: torch.utils._pytree._register_pytree_node is deprecated. Please use torch.utils._pytree.register_pytree_node instead.\n",
      "  _torch_pytree._register_pytree_node(\n",
      "/root/anaconda3/envs/transformer/lib/python3.10/site-packages/transformers/utils/generic.py:309: UserWarning: torch.utils._pytree._register_pytree_node is deprecated. Please use torch.utils._pytree.register_pytree_node instead.\n",
      "  _torch_pytree._register_pytree_node(\n"
     ]
    }
   ],
   "source": [
    "from haystack.document_store.elasticsearch import ElasticsearchDocumentStore\n",
    "import os\n",
    "\n",
    "# Get the host where Elasticsearch is running, default to localhost\n",
    "host = os.environ.get(\"ELASTICSEARCH_HOST\", \"localhost\")\n",
    "# 创建一个ElasticSearch的文档存储\n",
    "document_store = ElasticsearchDocumentStore(host=host, username=\"\", password=\"\",return_embedding=True)"
   ]
  },
  {
   "cell_type": "markdown",
   "metadata": {},
   "source": [
    "> 默认情况下，`ElasticsearchDocumentStore`会生成两个指针，其中一个称之为`document`用于存储文档，而另一个称之为`label`用于存储已标记的回答空挡。  \n",
    "> 现在我们只需要将SubjQA数据集填充给`ElasticsearchDocumentStore`即可。改类接受的元数据类型为`list[dictionary]`，且必须含有`text`和`meta`标签\n",
    "```json\n",
    "{\n",
    "    \"text\":\"<the-context>\",\n",
    "    \"meta\":{\n",
    "        \"filed_01\":\"<additional-metadata>\",\n",
    "        \"filed_02\":\"<additional-metadata>\"\n",
    "    }\n",
    "}\n",
    "```"
   ]
  },
  {
   "cell_type": "code",
   "execution_count": 23,
   "metadata": {},
   "outputs": [
    {
     "name": "stdout",
     "output_type": "stream",
     "text": [
      "Loaded 1615 documents.\n"
     ]
    }
   ],
   "source": [
    "# 为document_store写入数据\n",
    "for split,df in dfs.items():\n",
    "    # 去除重复项目\n",
    "    docs = [\n",
    "        {\n",
    "            \"text\":row['context'], # 在新版Haystack中，content字段是必须的，旧版的text字段已经被废弃\n",
    "            \"meta\":{\n",
    "                \"item_id\":row['title'],\n",
    "                \"question_id\":row['id'],\n",
    "                \"split\":split\n",
    "            }\n",
    "        }\n",
    "        for _,row in df.drop_duplicates(subset=['context']).iterrows()\n",
    "    ]\n",
    "    document_store.write_documents(docs,index=\"document\")\n",
    "\n",
    "print(f\"Loaded {document_store.get_document_count()} documents.\")"
   ]
  },
  {
   "cell_type": "markdown",
   "metadata": {},
   "source": [
    "### 初始化检索器\n",
    "在本实验中，我们将使用一个基于稀疏矩阵和TF-IDF(余弦相似度)算法的检索器：`BM25Retriever`。  \n",
    "BM25分数衡量搜索查询中有多少匹配文本，并通过快速饱和TF值和规范文档长度来改进TF-IDF，从而使短文档比长文档更受青睐。"
   ]
  },
  {
   "cell_type": "code",
   "execution_count": 24,
   "metadata": {},
   "outputs": [],
   "source": [
    "# Import BM25Retriever\n",
    "from haystack.retriever import ElasticsearchRetriever\n",
    "retriever = ElasticsearchRetriever(document_store=document_store)"
   ]
  },
  {
   "cell_type": "code",
   "execution_count": 25,
   "metadata": {},
   "outputs": [],
   "source": [
    "# Simple query test\n",
    "item_id = \"B0074BW614\"\n",
    "query = \"Is it good for reading?\"\n",
    "\n",
    "retrieved_docs = retriever.retrieve(query=query,top_k=3,filters={\"item_id\":[item_id],\"split\":[\"train\"]})"
   ]
  },
  {
   "cell_type": "code",
   "execution_count": 26,
   "metadata": {},
   "outputs": [
    {
     "name": "stdout",
     "output_type": "stream",
     "text": [
      "{'content': 'This is a gift to myself.  I have been a kindle user for 4 years and this is my third one.  I never thought I would want a fire for I mainly use it for book reading.  I decided to try the fire for when I travel I take my laptop, my phone and my iPod classic.  I love my iPod but watching movies on the plane with it can be challenging because it is so small. Laptops battery life is not as good as the Kindle.  So the Fire combines for me what I needed all three to do. So far so good.', 'content_type': 'text', 'score': 0.6857824513476455, 'meta': {'item_id': 'B0074BW614', 'question_id': '868e311275e26dbafe5af70774a300f3', 'split': 'train'}, 'id_hash_keys': ['content'], 'embedding': None, 'id': '252e83e25d52df7311d597dc89eef9f6'}\n"
     ]
    }
   ],
   "source": [
    "print(retrieved_docs[0].to_dict())"
   ]
  },
  {
   "cell_type": "markdown",
   "metadata": {},
   "source": [
    "### 初始化阅读器\n",
    "在HayStack中，有两种常用的阅读器：\n",
    "- FARMReader：基于deepset的FARM架构用于微调和部署transformer模型。与使用Hugging Face API训练的模型相兼容，可以直接加载或者从远程Hugging Face GIT存储库进行加载。\n",
    "- TransformerReader：基于Hugging Face的transformer QA管道。仅适用于推理工作流。"
   ]
  },
  {
   "cell_type": "markdown",
   "metadata": {},
   "source": [
    "尽管阅读器都以相同的方式来处理模型权重，但仍然有不同区别之处：\n",
    "- 在HuggingFace Transformers中，QA管道将在每篇文章中使用`softmax`来标准化开始和结束预测值。这意味着只有在同一篇文章中提取的答案之间比较答案得分才有意义，其中置信度的总值为1。  \n",
    "- 在`TransformerReader`类中有时会出现相同的预测，但是分数不同。这尤其会在长文本中发生如果答案需要依赖两个重叠窗口(*Overlapping Windows*)。好消息是：在FARM中这些重复结果将默认被移除。"
   ]
  },
  {
   "cell_type": "code",
   "execution_count": 27,
   "metadata": {},
   "outputs": [
    {
     "name": "stderr",
     "output_type": "stream",
     "text": [
      "Some weights of the model checkpoint at deepset/minilm-uncased-squad2 were not used when initializing BertForQuestionAnswering: ['bert.pooler.dense.weight', 'bert.pooler.dense.bias']\n",
      "- This IS expected if you are initializing BertForQuestionAnswering from the checkpoint of a model trained on another task or with another architecture (e.g. initializing a BertForSequenceClassification model from a BertForPreTraining model).\n",
      "- This IS NOT expected if you are initializing BertForQuestionAnswering from the checkpoint of a model that you expect to be exactly identical (initializing a BertForSequenceClassification model from a BertForSequenceClassification model).\n"
     ]
    }
   ],
   "source": [
    "# 加载MiniLM模型\n",
    "from haystack.reader.farm import FARMReader # 在旧版API中使用from haystack.reader.farm import FARMReader\n",
    "\n",
    "model_ckpt = \"deepset/minilm-uncased-squad2\"\n",
    "max_seq_length,doc_stride = 384,128\n",
    "reader = FARMReader(model_name_or_path=model_ckpt,progress_bar=False,max_seq_len=max_seq_length,doc_stride=doc_stride,return_no_answer=True)"
   ]
  },
  {
   "cell_type": "code",
   "execution_count": 28,
   "metadata": {},
   "outputs": [
    {
     "name": "stdout",
     "output_type": "stream",
     "text": [
      "{'query': 'How much music can this hold?', 'no_ans_gap': 12.829151630401611, 'answers': [<Answer {'answer': '6000 hours', 'type': 'extractive', 'score': 0.5138806104660034, 'context': 'An MP3 is about 1MB/minute,so about 6000 hours depending on file size.', 'offsets_in_document': [{'start': 36, 'end': 46}], 'offsets_in_context': [{'start': 36, 'end': 46}], 'document_ids': ['bef233935fb49897d219b15700915833'], 'meta': {}}>]}\n"
     ]
    }
   ],
   "source": [
    "# 简单使用reader进行测试\n",
    "print(reader.predict_on_texts(\n",
    "    question=question,\n",
    "    texts=[context],\n",
    "    top_k=1\n",
    "))"
   ]
  },
  {
   "cell_type": "code",
   "execution_count": 29,
   "metadata": {},
   "outputs": [],
   "source": [
    "# 将两个组件合并为QA管道\n",
    "from haystack.pipeline import ExtractiveQAPipeline\n",
    "\n",
    "# 定义一个QA管道\n",
    "pipe = ExtractiveQAPipeline(reader=reader,retriever=retriever)"
   ]
  },
  {
   "cell_type": "code",
   "execution_count": 30,
   "metadata": {},
   "outputs": [],
   "source": [
    "# 让模型生成多个答案\n",
    "n_answer = 3\n",
    "preds = pipe.run(\n",
    "    query=query,\n",
    "    params={\"Retriever\":{\"top_k\":3},\"Reader\":{\"top_k\":n_answer},\"filters\":{\"item_id\":[item_id],\"split\":[\"train\"]}},\n",
    ")"
   ]
  },
  {
   "cell_type": "code",
   "execution_count": 31,
   "metadata": {},
   "outputs": [
    {
     "name": "stdout",
     "output_type": "stream",
     "text": [
      "Question: Is it good for reading? \n",
      "\n",
      "Answer 1: it is great for reading books when no light is available\n",
      "Review snippet: ...ecoming addicted to hers! Our son LOVES it and it is great for reading books when no light is available. Amazing sound but I suggest good headphones t...\n",
      "\n",
      "\n",
      "\n",
      "Answer 2: I mainly use it for book reading\n",
      "Review snippet: ... is my third one.  I never thought I would want a fire for I mainly use it for book reading.  I decided to try the fire for when I travel I take my la...\n",
      "\n",
      "\n",
      "\n",
      "Answer 3: \n",
      "Review snippet: ...None...\n",
      "\n",
      "\n",
      "\n"
     ]
    }
   ],
   "source": [
    "print(f\"Question: {preds['query']} \\n\")\n",
    "for idx in range(n_answer):\n",
    "    print(f\"Answer {idx+1}: {preds['answers'][idx].to_dict()['answer']}\")\n",
    "    print(f\"Review snippet: ...{preds['answers'][idx].to_dict()['context']}...\")\n",
    "    print(\"\\n\\n\")"
   ]
  },
  {
   "cell_type": "markdown",
   "metadata": {},
   "source": [
    "> 提升QA系统性能的关键并不是提升你阅读器的性能，因为就算我们不断的调优阅读器的性能吗，但是一旦它第一时间无法找到相关联的文档，一切都是白扯。  \n",
    "> 实际上，在QA管线中，真正会影响QA性能的上限的是：检索器的性能。"
   ]
  },
  {
   "cell_type": "markdown",
   "metadata": {},
   "source": [
    "### 验证检索器的性能\n",
    "一种常见的验证和评估检索器的方法称之为`回召(Recall)`，用于评估所有检索的关联文档的百分比。在本文中，“相关”仅简单的表述答案是否出现在文档中，所以给到一个问题集，我们可以通过统计一个答案出现在top_k文档中的次数进而计算其召回率"
   ]
  },
  {
   "cell_type": "markdown",
   "metadata": {},
   "source": [
    "在HayStack中又两种普遍的方式来评估检索器的性能：\n",
    "- 使用检索器内置的`eval()`函数。这样既可以用于开放和闭合域的QA系统，但不是所有的数据集都像SubjQA一样每个文档都一个与之配对简单的产品，并且我们需要使用产品ID来过滤每个`query`。\n",
    "- 构建一个简单的管道来讲一个检索器和`EvalRetriever`类进行绑定。这允许自定义评分和query过滤。"
   ]
  },
  {
   "cell_type": "markdown",
   "metadata": {},
   "source": [
    "### 密集文章检索(Dense Passage Retrieval)\n",
    "如何在更小的*top_k*值下实现更高的召回率呢？类BM25检索器存在一种普遍的限制是：它不会捕捉到相关联的文档，这种情况会发生在当用户输入的问题存在包含了不匹配这些评论中存在的术语。  \n",
    "一种可行的替换方式是使用密度嵌入(*Dense Embeddings*)来表示问题和文档，并且当前最流行的方法是使用`Dense Passage Retrieval(DPR)`，其核心思想是使用两个BERT模型作为问题和文章的编码器。  \n",
    "具体工作流程如下图，编码器匹配输入文本并将其转换为一个*n维*的向量作为`[CLS]`词元。  \n",
    "<img src=\"DPRWorkflow.png\" width=\"500\" height=\"700\">"
   ]
  },
  {
   "cell_type": "code",
   "execution_count": null,
   "metadata": {},
   "outputs": [],
   "source": []
  }
 ],
 "metadata": {
  "kernelspec": {
   "display_name": "transformer",
   "language": "python",
   "name": "python3"
  },
  "language_info": {
   "codemirror_mode": {
    "name": "ipython",
    "version": 3
   },
   "file_extension": ".py",
   "mimetype": "text/x-python",
   "name": "python",
   "nbconvert_exporter": "python",
   "pygments_lexer": "ipython3",
   "version": "3.9.12"
  }
 },
 "nbformat": 4,
 "nbformat_minor": 2
}
